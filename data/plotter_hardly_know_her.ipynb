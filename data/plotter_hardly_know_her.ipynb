{
 "cells": [
  {
   "cell_type": "code",
   "execution_count": 56,
   "metadata": {},
   "outputs": [],
   "source": [
    "import numpy as np\n",
    "import pandas as pd\n",
    "import os\n",
    "import matplotlib.pyplot as plt"
   ]
  },
  {
   "attachments": {},
   "cell_type": "markdown",
   "metadata": {},
   "source": [
    "## Basic principle\n",
    "Given a folder name we can gather all pathways from these trials, as well as all histories. AN efficient way to do this is using a table that links to the pathways. This is what ```get_organised``` does. It returns the name of algorithm (trial = Microbial), (NEAT = NEAT), (Diff = Differential) and (RL_TRIAL = Reinforcmnt learning). The name of the experiment isunder \"experiment\". And finaly the file is stored relating to it. It will be a numpy file\n",
    "\n",
    "\n",
    "Once you have gathered this you can move onto processing the numpy files. Something to be aware of is not all routes make it to the end, so the arrays are filled with (0,0) to pad out the non values. Make sure to remove these from the plotting. Then you can use the ```get_arrays``` function to loop through all the trials or given trials as a parameter to get all routes for that."
   ]
  },
  {
   "cell_type": "code",
   "execution_count": 42,
   "metadata": {},
   "outputs": [],
   "source": [
    "def get_organised(base_dir = 'data',target_file = 'file to find'):\n",
    "    rows = []\n",
    "    # Walk through all subdirectories\n",
    "    for root, dirs, files in os.walk(base_dir):\n",
    "        if target_file in files:\n",
    "            parts = os.path.normpath(root).split(os.sep)\n",
    "            if len(parts) >= 3:\n",
    "                grandparent = parts[-2]\n",
    "                parent = parts[-1]\n",
    "                file_path = os.path.join(root, target_file)\n",
    "                rows.append((grandparent, parent, file_path))\n",
    "    df = pd.DataFrame(rows, columns=['Algorithm', 'Experiment', 'File'])\n",
    "    return df\n",
    "\n",
    "all_learning_routes=get_organised(\"/its/home/drs25/ant_trajectory/data/\",\"routes_over_time.npy\") #all files \n",
    "all_end_routes=get_organised(\"/its/home/drs25/ant_trajectory/data/\",\"routes.npy\") #all files "
   ]
  },
  {
   "cell_type": "code",
   "execution_count": 49,
   "metadata": {},
   "outputs": [
    {
     "name": "stdout",
     "output_type": "stream",
     "text": [
      "42\n"
     ]
    }
   ],
   "source": [
    "def get_arrays(frame,algorithm=\"\"):\n",
    "    ar=[]\n",
    "    for index, row in frame.iterrows():\n",
    "        alg=row['Algorithm']\n",
    "        trial=row['Experiment']\n",
    "        file_=row['File']\n",
    "        if algorithm==\"\": #default get all\n",
    "            ar.append(np.load(file_))\n",
    "        elif algorithm==alg: ar.append(np.load(file_)) #if looking for one\n",
    "    return ar\n",
    "\n",
    "data=get_arrays(all_end_routes,\"trial\")\n",
    "print(len(data))"
   ]
  },
  {
   "attachments": {},
   "cell_type": "markdown",
   "metadata": {},
   "source": [
    "## Plotting principles\n",
    "Like mentioned before, not all data can be used so you need to select the useful parts of the routes. Below is an example of doing this"
   ]
  },
  {
   "cell_type": "code",
   "execution_count": 62,
   "metadata": {},
   "outputs": [
    {
     "data": {
      "image/png": "[encoded data removed]",
      "text/plain": [
       "<Figure size 640x480 with 1 Axes>"
      ]
     },
     "metadata": {},
     "output_type": "display_data"
    }
   ],
   "source": [
    "def get_used(routes):\n",
    "    zero_index = np.argmax(np.all(routes == [0, 0], axis=1))\n",
    "    if np.all(routes[zero_index] == [0, 0]):\n",
    "        trimmed_coords = routes[:zero_index]\n",
    "    else:\n",
    "        trimmed_coords = routes  # No (0, 0) found\n",
    "\n",
    "    return trimmed_coords\n",
    "example_route=get_used(data[3][0])\n",
    "plt.plot(example_route[:,0],example_route[:,1])\n",
    "plt.scatter(0.15,-0.003)\n",
    "plt.show()"
   ]
  },
  {
   "cell_type": "code",
   "execution_count": null,
   "metadata": {},
   "outputs": [],
   "source": []
  },
  {
   "attachments": {},
   "cell_type": "markdown",
   "metadata": {},
   "source": [
    "## some other debugging stuff ignore"
   ]
  },
  {
   "cell_type": "code",
   "execution_count": 40,
   "metadata": {},
   "outputs": [
    {
     "name": "stdout",
     "output_type": "stream",
     "text": [
      "Grandparent                                                trial\n",
      "Parent                                           LONGER_TRIALS13\n",
      "File           /its/home/drs25/ant_trajectory/data/trial/LONG...\n",
      "Name: 28, dtype: object\n",
      "0\n"
     ]
    }
   ],
   "source": [
    "frame=get_organised(\"/its/home/drs25/ant_trajectory/data/\",\"GA\") #all files \n",
    "import pickle\n",
    "import sys\n",
    "\n",
    "sys.path.insert(1,\"/its/home/drs25/ant_trajectory\") #put path here\n",
    "from GA_code.GAs.genetic_algorithm import GA\n",
    "random_row = frame.sample(n=1).iloc[0] \n",
    "print(random_row)\n",
    "\n",
    "obj = GA(100,10,2)\n",
    "with open(random_row['File'], \"wb\") as f:\n",
    "    pickle.dump(obj, f)\n",
    "\n",
    "\n",
    "print(len(obj.best_genos_time))"
   ]
  }
 ],
 "metadata": {
  "kernelspec": {
   "display_name": "Python 3 (ipykernel)",
   "language": "python",
   "name": "python3"
  },
  "language_info": {
   "codemirror_mode": {
    "name": "ipython",
    "version": 3
   },
   "file_extension": ".py",
   "mimetype": "text/x-python",
   "name": "python",
   "nbconvert_exporter": "python",
   "pygments_lexer": "ipython3",
   "version": "3.10.12"
  },
  "orig_nbformat": 4
 },
 "nbformat": 4,
 "nbformat_minor": 2
}
